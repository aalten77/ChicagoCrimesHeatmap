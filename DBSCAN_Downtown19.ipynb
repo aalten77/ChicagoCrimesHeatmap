{
 "cells": [
  {
   "cell_type": "code",
   "execution_count": 1,
   "metadata": {
    "collapsed": true
   },
   "outputs": [],
   "source": [
    "import matplotlib.pyplot as plt\n",
    "import pandas as pd\n",
    "import numpy as np\n",
    "from sklearn.cluster import DBSCAN\n",
    "from sklearn import metrics\n",
    "from sklearn.preprocessing import StandardScaler\n",
    "from geopy.distance import great_circle\n",
    "import time\n",
    "from shapely.geometry import MultiPoint\n",
    "%matplotlib inline"
   ]
  },
  {
   "cell_type": "code",
   "execution_count": 2,
   "metadata": {
    "collapsed": true
   },
   "outputs": [],
   "source": [
    "df = pd.read_csv('CrimeDowntown2019.csv')\n",
    "dfs_18 = [pd.read_csv('CrimeDowntown2018_jan_apr.csv'), pd.read_csv('CrimeDowntown2018_may_aug.csv'), pd.read_csv('CrimeDowntown2018_sept_dec.csv')]"
   ]
  },
  {
   "cell_type": "code",
   "execution_count": 3,
   "metadata": {
    "scrolled": true
   },
   "outputs": [
    {
     "data": {
      "text/html": [
       "<div>\n",
       "<style>\n",
       "    .dataframe thead tr:only-child th {\n",
       "        text-align: right;\n",
       "    }\n",
       "\n",
       "    .dataframe thead th {\n",
       "        text-align: left;\n",
       "    }\n",
       "\n",
       "    .dataframe tbody tr th {\n",
       "        vertical-align: top;\n",
       "    }\n",
       "</style>\n",
       "<table border=\"1\" class=\"dataframe\">\n",
       "  <thead>\n",
       "    <tr style=\"text-align: right;\">\n",
       "      <th></th>\n",
       "      <th>date</th>\n",
       "      <th>primary_type</th>\n",
       "      <th>x_coordinate</th>\n",
       "      <th>y_coordinate</th>\n",
       "      <th>latitude</th>\n",
       "      <th>longitude</th>\n",
       "    </tr>\n",
       "  </thead>\n",
       "  <tbody>\n",
       "    <tr>\n",
       "      <th>0</th>\n",
       "      <td>2019-04-15 23:25:00 UTC</td>\n",
       "      <td>ASSAULT</td>\n",
       "      <td>1175207.0</td>\n",
       "      <td>1908349.0</td>\n",
       "      <td>41.903892</td>\n",
       "      <td>-87.631858</td>\n",
       "    </tr>\n",
       "    <tr>\n",
       "      <th>1</th>\n",
       "      <td>2019-04-15 21:40:00 UTC</td>\n",
       "      <td>DECEPTIVE PRACTICE</td>\n",
       "      <td>1176389.0</td>\n",
       "      <td>1900278.0</td>\n",
       "      <td>41.881718</td>\n",
       "      <td>-87.627760</td>\n",
       "    </tr>\n",
       "    <tr>\n",
       "      <th>2</th>\n",
       "      <td>2019-04-15 21:10:00 UTC</td>\n",
       "      <td>CRIMINAL DAMAGE</td>\n",
       "      <td>1177417.0</td>\n",
       "      <td>1895669.0</td>\n",
       "      <td>41.869048</td>\n",
       "      <td>-87.624126</td>\n",
       "    </tr>\n",
       "    <tr>\n",
       "      <th>3</th>\n",
       "      <td>2019-04-15 20:00:00 UTC</td>\n",
       "      <td>CRIMINAL DAMAGE</td>\n",
       "      <td>1174938.0</td>\n",
       "      <td>1907711.0</td>\n",
       "      <td>41.902148</td>\n",
       "      <td>-87.632866</td>\n",
       "    </tr>\n",
       "    <tr>\n",
       "      <th>4</th>\n",
       "      <td>2019-04-15 20:00:00 UTC</td>\n",
       "      <td>THEFT</td>\n",
       "      <td>1176278.0</td>\n",
       "      <td>1903807.0</td>\n",
       "      <td>41.891405</td>\n",
       "      <td>-87.628062</td>\n",
       "    </tr>\n",
       "  </tbody>\n",
       "</table>\n",
       "</div>"
      ],
      "text/plain": [
       "                      date        primary_type  x_coordinate  y_coordinate  \\\n",
       "0  2019-04-15 23:25:00 UTC             ASSAULT     1175207.0     1908349.0   \n",
       "1  2019-04-15 21:40:00 UTC  DECEPTIVE PRACTICE     1176389.0     1900278.0   \n",
       "2  2019-04-15 21:10:00 UTC     CRIMINAL DAMAGE     1177417.0     1895669.0   \n",
       "3  2019-04-15 20:00:00 UTC     CRIMINAL DAMAGE     1174938.0     1907711.0   \n",
       "4  2019-04-15 20:00:00 UTC               THEFT     1176278.0     1903807.0   \n",
       "\n",
       "    latitude  longitude  \n",
       "0  41.903892 -87.631858  \n",
       "1  41.881718 -87.627760  \n",
       "2  41.869048 -87.624126  \n",
       "3  41.902148 -87.632866  \n",
       "4  41.891405 -87.628062  "
      ]
     },
     "execution_count": 3,
     "metadata": {},
     "output_type": "execute_result"
    }
   ],
   "source": [
    "df.head()"
   ]
  },
  {
   "cell_type": "code",
   "execution_count": 4,
   "metadata": {},
   "outputs": [
    {
     "data": {
      "text/plain": [
       "array(['ASSAULT', 'DECEPTIVE PRACTICE', 'CRIMINAL DAMAGE', 'THEFT',\n",
       "       'MOTOR VEHICLE THEFT', 'BATTERY', 'CRIMINAL TRESPASS',\n",
       "       'PUBLIC PEACE VIOLATION', 'OTHER OFFENSE', 'ROBBERY',\n",
       "       'WEAPONS VIOLATION', 'CRIM SEXUAL ASSAULT', 'BURGLARY', 'NARCOTICS',\n",
       "       'SEX OFFENSE', 'INTIMIDATION', 'INTERFERENCE WITH PUBLIC OFFICER',\n",
       "       'LIQUOR LAW VIOLATION', 'OFFENSE INVOLVING CHILDREN', 'HOMICIDE',\n",
       "       'OBSCENITY', 'STALKING', 'PROSTITUTION', 'KIDNAPPING', 'ARSON',\n",
       "       'CONCEALED CARRY LICENSE VIOLATION'], dtype=object)"
      ]
     },
     "execution_count": 4,
     "metadata": {},
     "output_type": "execute_result"
    }
   ],
   "source": [
    "df.primary_type.unique()"
   ]
  },
  {
   "cell_type": "code",
   "execution_count": 5,
   "metadata": {},
   "outputs": [],
   "source": [
    "#concatenate 2018 dataframes\n",
    "df_18 = pd.concat(dfs_18)"
   ]
  },
  {
   "cell_type": "code",
   "execution_count": 197,
   "metadata": {},
   "outputs": [
    {
     "name": "stderr",
     "output_type": "stream",
     "text": [
      "C:\\Users\\ailin\\Anaconda3\\lib\\site-packages\\ipykernel_launcher.py:3: SettingWithCopyWarning: \n",
      "A value is trying to be set on a copy of a slice from a DataFrame\n",
      "\n",
      "See the caveats in the documentation: http://pandas.pydata.org/pandas-docs/stable/indexing.html#indexing-view-versus-copy\n",
      "  This is separate from the ipykernel package so we can avoid doing imports until\n"
     ]
    },
    {
     "data": {
      "text/html": [
       "<div>\n",
       "<style>\n",
       "    .dataframe thead tr:only-child th {\n",
       "        text-align: right;\n",
       "    }\n",
       "\n",
       "    .dataframe thead th {\n",
       "        text-align: left;\n",
       "    }\n",
       "\n",
       "    .dataframe tbody tr th {\n",
       "        vertical-align: top;\n",
       "    }\n",
       "</style>\n",
       "<table border=\"1\" class=\"dataframe\">\n",
       "  <thead>\n",
       "    <tr style=\"text-align: right;\">\n",
       "      <th></th>\n",
       "      <th>date</th>\n",
       "      <th>primary_type</th>\n",
       "      <th>x_coordinate</th>\n",
       "      <th>y_coordinate</th>\n",
       "      <th>latitude</th>\n",
       "      <th>longitude</th>\n",
       "    </tr>\n",
       "  </thead>\n",
       "  <tbody>\n",
       "    <tr>\n",
       "      <th>5937</th>\n",
       "      <td>2018-02-18 04:38:00 UTC</td>\n",
       "      <td>CONCEALED CARRY LICENSE VIOLATION</td>\n",
       "      <td>1178046.0</td>\n",
       "      <td>1905133.0</td>\n",
       "      <td>41.895003</td>\n",
       "      <td>-87.621528</td>\n",
       "    </tr>\n",
       "    <tr>\n",
       "      <th>7756</th>\n",
       "      <td>2018-06-16 00:59:00 UTC</td>\n",
       "      <td>CONCEALED CARRY LICENSE VIOLATION</td>\n",
       "      <td>1177005.0</td>\n",
       "      <td>1893206.0</td>\n",
       "      <td>41.862299</td>\n",
       "      <td>-87.625713</td>\n",
       "    </tr>\n",
       "    <tr>\n",
       "      <th>1149</th>\n",
       "      <td>2018-08-19 15:51:00 UTC</td>\n",
       "      <td>CONCEALED CARRY LICENSE VIOLATION</td>\n",
       "      <td>1173303.0</td>\n",
       "      <td>1895451.0</td>\n",
       "      <td>41.868542</td>\n",
       "      <td>-87.639235</td>\n",
       "    </tr>\n",
       "    <tr>\n",
       "      <th>3995</th>\n",
       "      <td>2018-11-15 03:30:00 UTC</td>\n",
       "      <td>CONCEALED CARRY LICENSE VIOLATION</td>\n",
       "      <td>1179215.0</td>\n",
       "      <td>1898967.0</td>\n",
       "      <td>41.878057</td>\n",
       "      <td>-87.617424</td>\n",
       "    </tr>\n",
       "  </tbody>\n",
       "</table>\n",
       "</div>"
      ],
      "text/plain": [
       "                         date                       primary_type  \\\n",
       "5937  2018-02-18 04:38:00 UTC  CONCEALED CARRY LICENSE VIOLATION   \n",
       "7756  2018-06-16 00:59:00 UTC  CONCEALED CARRY LICENSE VIOLATION   \n",
       "1149  2018-08-19 15:51:00 UTC  CONCEALED CARRY LICENSE VIOLATION   \n",
       "3995  2018-11-15 03:30:00 UTC  CONCEALED CARRY LICENSE VIOLATION   \n",
       "\n",
       "      x_coordinate  y_coordinate   latitude  longitude  \n",
       "5937     1178046.0     1905133.0  41.895003 -87.621528  \n",
       "7756     1177005.0     1893206.0  41.862299 -87.625713  \n",
       "1149     1173303.0     1895451.0  41.868542 -87.639235  \n",
       "3995     1179215.0     1898967.0  41.878057 -87.617424  "
      ]
     },
     "execution_count": 197,
     "metadata": {},
     "output_type": "execute_result"
    }
   ],
   "source": [
    "# df_thefts = df[df.primary_type == 'ASSAULT']\n",
    "df_18_thefts = df_18[df_18.primary_type == 'CONCEALED CARRY LICENSE VIOLATION']\n",
    "df_18_thefts.sort_values('date', inplace=True)\n",
    "df_18_thefts.head()"
   ]
  },
  {
   "cell_type": "code",
   "execution_count": 198,
   "metadata": {},
   "outputs": [
    {
     "name": "stderr",
     "output_type": "stream",
     "text": [
      "C:\\Users\\ailin\\Anaconda3\\lib\\site-packages\\ipykernel_launcher.py:2: SettingWithCopyWarning: \n",
      "A value is trying to be set on a copy of a slice from a DataFrame\n",
      "\n",
      "See the caveats in the documentation: http://pandas.pydata.org/pandas-docs/stable/indexing.html#indexing-view-versus-copy\n",
      "  \n"
     ]
    },
    {
     "data": {
      "text/html": [
       "<div>\n",
       "<style>\n",
       "    .dataframe thead tr:only-child th {\n",
       "        text-align: right;\n",
       "    }\n",
       "\n",
       "    .dataframe thead th {\n",
       "        text-align: left;\n",
       "    }\n",
       "\n",
       "    .dataframe tbody tr th {\n",
       "        vertical-align: top;\n",
       "    }\n",
       "</style>\n",
       "<table border=\"1\" class=\"dataframe\">\n",
       "  <thead>\n",
       "    <tr style=\"text-align: right;\">\n",
       "      <th></th>\n",
       "      <th>date</th>\n",
       "      <th>primary_type</th>\n",
       "      <th>x_coordinate</th>\n",
       "      <th>y_coordinate</th>\n",
       "      <th>latitude</th>\n",
       "      <th>longitude</th>\n",
       "    </tr>\n",
       "  </thead>\n",
       "  <tbody>\n",
       "    <tr>\n",
       "      <th>5937</th>\n",
       "      <td>2018-02-18 04:38:00 UTC</td>\n",
       "      <td>CONCEALED CARRY LICENSE VIOLATION</td>\n",
       "      <td>1178046.0</td>\n",
       "      <td>1905133.0</td>\n",
       "      <td>41.895003</td>\n",
       "      <td>-87.621528</td>\n",
       "    </tr>\n",
       "    <tr>\n",
       "      <th>7756</th>\n",
       "      <td>2018-06-16 00:59:00 UTC</td>\n",
       "      <td>CONCEALED CARRY LICENSE VIOLATION</td>\n",
       "      <td>1177005.0</td>\n",
       "      <td>1893206.0</td>\n",
       "      <td>41.862299</td>\n",
       "      <td>-87.625713</td>\n",
       "    </tr>\n",
       "    <tr>\n",
       "      <th>1149</th>\n",
       "      <td>2018-08-19 15:51:00 UTC</td>\n",
       "      <td>CONCEALED CARRY LICENSE VIOLATION</td>\n",
       "      <td>1173303.0</td>\n",
       "      <td>1895451.0</td>\n",
       "      <td>41.868542</td>\n",
       "      <td>-87.639235</td>\n",
       "    </tr>\n",
       "    <tr>\n",
       "      <th>3995</th>\n",
       "      <td>2018-11-15 03:30:00 UTC</td>\n",
       "      <td>CONCEALED CARRY LICENSE VIOLATION</td>\n",
       "      <td>1179215.0</td>\n",
       "      <td>1898967.0</td>\n",
       "      <td>41.878057</td>\n",
       "      <td>-87.617424</td>\n",
       "    </tr>\n",
       "  </tbody>\n",
       "</table>\n",
       "</div>"
      ],
      "text/plain": [
       "                         date                       primary_type  \\\n",
       "5937  2018-02-18 04:38:00 UTC  CONCEALED CARRY LICENSE VIOLATION   \n",
       "7756  2018-06-16 00:59:00 UTC  CONCEALED CARRY LICENSE VIOLATION   \n",
       "1149  2018-08-19 15:51:00 UTC  CONCEALED CARRY LICENSE VIOLATION   \n",
       "3995  2018-11-15 03:30:00 UTC  CONCEALED CARRY LICENSE VIOLATION   \n",
       "\n",
       "      x_coordinate  y_coordinate   latitude  longitude  \n",
       "5937     1178046.0     1905133.0  41.895003 -87.621528  \n",
       "7756     1177005.0     1893206.0  41.862299 -87.625713  \n",
       "1149     1173303.0     1895451.0  41.868542 -87.639235  \n",
       "3995     1179215.0     1898967.0  41.878057 -87.617424  "
      ]
     },
     "execution_count": 198,
     "metadata": {},
     "output_type": "execute_result"
    }
   ],
   "source": [
    "#df_thefts.dropna(inplace=True)\n",
    "df_18_thefts.dropna(inplace=True)\n",
    "df_18_thefts.head()"
   ]
  },
  {
   "cell_type": "code",
   "execution_count": 199,
   "metadata": {},
   "outputs": [
    {
     "name": "stdout",
     "output_type": "stream",
     "text": [
      "Number of thefts:  4\n",
      "Number of thefts:  32611\n"
     ]
    }
   ],
   "source": [
    "print (\"Number of thefts: \", df_18_thefts.shape[0])\n",
    "print (\"Number of thefts: \", df_18.shape[0])"
   ]
  },
  {
   "cell_type": "code",
   "execution_count": 200,
   "metadata": {},
   "outputs": [
    {
     "data": {
      "text/plain": [
       "<matplotlib.axes._subplots.AxesSubplot at 0x25654d3a8d0>"
      ]
     },
     "execution_count": 200,
     "metadata": {},
     "output_type": "execute_result"
    },
    {
     "data": {
      "image/png": "[encoded data removed]",
      "text/plain": [
       "<Figure size 432x288 with 1 Axes>"
      ]
     },
     "metadata": {},
     "output_type": "display_data"
    }
   ],
   "source": [
    "df_18_thefts.plot.scatter(x='longitude', y='latitude')"
   ]
  },
  {
   "cell_type": "code",
   "execution_count": 169,
   "metadata": {
    "collapsed": true
   },
   "outputs": [],
   "source": [
    "df_samp = df_18_thefts.sample(frac=0.10)"
   ]
  },
  {
   "cell_type": "code",
   "execution_count": 170,
   "metadata": {},
   "outputs": [
    {
     "data": {
      "text/plain": [
       "<matplotlib.axes._subplots.AxesSubplot at 0x256545b9908>"
      ]
     },
     "execution_count": 170,
     "metadata": {},
     "output_type": "execute_result"
    },
    {
     "data": {
      "image/png": "[encoded data removed]",
      "text/plain": [
       "<Figure size 432x288 with 1 Axes>"
      ]
     },
     "metadata": {},
     "output_type": "display_data"
    }
   ],
   "source": [
    "df_samp.plot.scatter(x='longitude', y='latitude')"
   ]
  },
  {
   "cell_type": "markdown",
   "metadata": {},
   "source": [
    "## Train DBSCAN"
   ]
  },
  {
   "cell_type": "code",
   "execution_count": 171,
   "metadata": {},
   "outputs": [
    {
     "data": {
      "text/plain": [
       "(11, 2)"
      ]
     },
     "execution_count": 171,
     "metadata": {},
     "output_type": "execute_result"
    }
   ],
   "source": [
    "numpy_matrix_samp = df_samp.as_matrix(columns=['latitude', 'longitude'])\n",
    "numpy_matrix = df_18_thefts.as_matrix(columns=['latitude', 'longitude'])\n",
    "numpy_matrix.shape"
   ]
  },
  {
   "cell_type": "code",
   "execution_count": 172,
   "metadata": {},
   "outputs": [
    {
     "data": {
      "text/plain": [
       "array([[ 41.88194442, -87.63419529],\n",
       "       [ 41.89482493, -87.63178864],\n",
       "       [ 41.86522509, -87.65734107],\n",
       "       [ 41.88738476, -87.62455074],\n",
       "       [ 41.85841276, -87.62394571],\n",
       "       [ 41.87649384, -87.62604438],\n",
       "       [ 41.86612915, -87.65754448],\n",
       "       [ 41.89954984, -87.64896057],\n",
       "       [ 41.89670179, -87.62638709],\n",
       "       [ 41.90440853, -87.63145965],\n",
       "       [ 41.85519055, -87.6238712 ]])"
      ]
     },
     "execution_count": 172,
     "metadata": {},
     "output_type": "execute_result"
    }
   ],
   "source": [
    "numpy_matrix"
   ]
  },
  {
   "cell_type": "code",
   "execution_count": 173,
   "metadata": {
    "collapsed": true
   },
   "outputs": [],
   "source": [
    "def k_distances2(x, k):\n",
    "    dim0 = x.shape[0]\n",
    "    dim1 = x.shape[1]\n",
    "    p=-2*x.dot(x.T)+np.sum(x**2, axis=1).T+ np.repeat(np.sum(x**2, axis=1),dim0,axis=0).reshape(dim0,dim0)\n",
    "    p = np.sqrt(p)\n",
    "    p.sort(axis=1)\n",
    "    p=p[:,:k]\n",
    "    pm= p.flatten()\n",
    "    pm= np.sort(pm)\n",
    "    return p, pm"
   ]
  },
  {
   "cell_type": "code",
   "execution_count": 174,
   "metadata": {
    "scrolled": true
   },
   "outputs": [
    {
     "data": {
      "image/png": "[encoded data removed]",
      "text/plain": [
       "<Figure size 432x288 with 1 Axes>"
      ]
     },
     "metadata": {},
     "output_type": "display_data"
    }
   ],
   "source": [
    "#convert to radians for harversine metric\n",
    "m, m2= k_distances2(numpy_matrix_samp, 2) \n",
    "plt.plot(m2)\n",
    "plt.ylabel(\"k-distances\")\n",
    "plt.grid(True)\n",
    "plt.show()"
   ]
  },
  {
   "cell_type": "markdown",
   "metadata": {},
   "source": [
    "### DBSCAN"
   ]
  },
  {
   "cell_type": "code",
   "execution_count": 181,
   "metadata": {},
   "outputs": [],
   "source": [
    "#convert matrix into radians before using haversine metric\n",
    "db = DBSCAN(eps=np.radians(0.01), min_samples=3, metric='haversine', algorithm=\"ball_tree\").fit(np.radians(numpy_matrix))"
   ]
  },
  {
   "cell_type": "code",
   "execution_count": 182,
   "metadata": {},
   "outputs": [],
   "source": [
    "core_samples_mask = np.zeros_like(db.labels_, dtype=bool)\n",
    "core_samples_mask[db.core_sample_indices_] = True\n",
    "labels = db.labels_"
   ]
  },
  {
   "cell_type": "code",
   "execution_count": 183,
   "metadata": {},
   "outputs": [
    {
     "name": "stdout",
     "output_type": "stream",
     "text": [
      "Number of clusters:  1\n"
     ]
    }
   ],
   "source": [
    "n_clusters_ = len(set(labels)) - (1 if -1 in labels else 0)\n",
    "print (\"Number of clusters: \", n_clusters_)"
   ]
  },
  {
   "cell_type": "code",
   "execution_count": 184,
   "metadata": {},
   "outputs": [
    {
     "name": "stdout",
     "output_type": "stream",
     "text": [
      "Number of noise points:  5\n"
     ]
    }
   ],
   "source": [
    "n_noise_ = list(labels).count(-1)\n",
    "print(\"Number of noise points: \", n_noise_)"
   ]
  },
  {
   "cell_type": "markdown",
   "metadata": {},
   "source": [
    "### Evaluation with Silhoette Coefficient: "
   ]
  },
  {
   "cell_type": "code",
   "execution_count": 185,
   "metadata": {},
   "outputs": [
    {
     "name": "stdout",
     "output_type": "stream",
     "text": [
      "Silhouette Coefficient: 0.342\n"
     ]
    }
   ],
   "source": [
    "print(\"Silhouette Coefficient: %0.3f\" % metrics.silhouette_score(np.radians(numpy_matrix), labels))"
   ]
  },
  {
   "cell_type": "code",
   "execution_count": 186,
   "metadata": {},
   "outputs": [
    {
     "name": "stdout",
     "output_type": "stream",
     "text": [
      "Most frequent class label:  0\n"
     ]
    }
   ],
   "source": [
    "#most frequent label\n",
    "u, indices = np.unique(labels, return_inverse=True)\n",
    "print(\"Most frequent class label: \", u[np.argmax(np.bincount(indices))])"
   ]
  },
  {
   "cell_type": "code",
   "execution_count": 187,
   "metadata": {
    "collapsed": true
   },
   "outputs": [],
   "source": [
    "X = numpy_matrix"
   ]
  },
  {
   "cell_type": "code",
   "execution_count": 188,
   "metadata": {},
   "outputs": [
    {
     "data": {
      "image/png": "[encoded data removed]",
      "text/plain": [
       "<Figure size 1080x1080 with 1 Axes>"
      ]
     },
     "metadata": {},
     "output_type": "display_data"
    }
   ],
   "source": [
    "# Black removed and is used for noise instead.\n",
    "plt.figure(figsize=(15,15))\n",
    "unique_labels = set(labels)\n",
    "colors = [plt.cm.gist_ncar(each)\n",
    "          for each in np.linspace(0, 1, len(unique_labels))]\n",
    "for k, col in zip(unique_labels, colors):\n",
    "    if k == -1:\n",
    "        # Black used for noise.\n",
    "        col = [0, 0, 0, 1]\n",
    "\n",
    "    class_member_mask = (labels == k)\n",
    "\n",
    "    xy = X[class_member_mask & core_samples_mask]\n",
    "    plt.plot(xy[:, 1], xy[:, 0], 'o', markerfacecolor=tuple(col),\n",
    "             markeredgecolor='k', markersize=14)\n",
    "\n",
    "    xy = X[class_member_mask & ~core_samples_mask]\n",
    "    plt.plot(xy[:, 1], xy[:, 0], 'o', markerfacecolor=tuple(col),\n",
    "             markeredgecolor='k', markersize=6)\n",
    "\n",
    "plt.title('Estimated number of clusters: %d' % n_clusters_)\n",
    "plt.show()"
   ]
  },
  {
   "cell_type": "code",
   "execution_count": 189,
   "metadata": {
    "collapsed": true
   },
   "outputs": [],
   "source": [
    "# turn the clusters in to a pandas series, where each element is a cluster of points\n",
    "clusters = pd.Series([numpy_matrix[labels==n] for n in range(n_clusters_)])"
   ]
  },
  {
   "cell_type": "code",
   "execution_count": 190,
   "metadata": {
    "collapsed": true
   },
   "outputs": [],
   "source": [
    "def get_centermost_point(cluster):\n",
    "    centroid = (MultiPoint(cluster).centroid.x, MultiPoint(cluster).centroid.y)\n",
    "    centermost_point = min(cluster, key=lambda point: great_circle(point, centroid).m)\n",
    "    return tuple(centermost_point)\n",
    "centermost_points = clusters.map(get_centermost_point)\n"
   ]
  },
  {
   "cell_type": "code",
   "execution_count": 191,
   "metadata": {},
   "outputs": [
    {
     "data": {
      "text/html": [
       "<div>\n",
       "<style>\n",
       "    .dataframe thead tr:only-child th {\n",
       "        text-align: right;\n",
       "    }\n",
       "\n",
       "    .dataframe thead th {\n",
       "        text-align: left;\n",
       "    }\n",
       "\n",
       "    .dataframe tbody tr th {\n",
       "        vertical-align: top;\n",
       "    }\n",
       "</style>\n",
       "<table border=\"1\" class=\"dataframe\">\n",
       "  <thead>\n",
       "    <tr style=\"text-align: right;\">\n",
       "      <th></th>\n",
       "      <th>lat</th>\n",
       "      <th>lon</th>\n",
       "    </tr>\n",
       "  </thead>\n",
       "  <tbody>\n",
       "    <tr>\n",
       "      <th>0</th>\n",
       "      <td>41.887385</td>\n",
       "      <td>-87.624551</td>\n",
       "    </tr>\n",
       "  </tbody>\n",
       "</table>\n",
       "</div>"
      ],
      "text/plain": [
       "         lat        lon\n",
       "0  41.887385 -87.624551"
      ]
     },
     "execution_count": 191,
     "metadata": {},
     "output_type": "execute_result"
    }
   ],
   "source": [
    "# unzip the list of centermost points (lat, lon) tuples into separate lat and lon lists\n",
    "lats, lons = zip(*centermost_points)\n",
    "\n",
    "# from these lats/lons create a new df of one representative point for each cluster\n",
    "rep_points = pd.DataFrame({'lon':lons, 'lat':lats})\n",
    "rep_points.tail()"
   ]
  },
  {
   "cell_type": "code",
   "execution_count": 192,
   "metadata": {},
   "outputs": [
    {
     "data": {
      "text/html": [
       "<div>\n",
       "<style>\n",
       "    .dataframe thead tr:only-child th {\n",
       "        text-align: right;\n",
       "    }\n",
       "\n",
       "    .dataframe thead th {\n",
       "        text-align: left;\n",
       "    }\n",
       "\n",
       "    .dataframe tbody tr th {\n",
       "        vertical-align: top;\n",
       "    }\n",
       "</style>\n",
       "<table border=\"1\" class=\"dataframe\">\n",
       "  <thead>\n",
       "    <tr style=\"text-align: right;\">\n",
       "      <th></th>\n",
       "      <th>date</th>\n",
       "      <th>primary_type</th>\n",
       "      <th>x_coordinate</th>\n",
       "      <th>y_coordinate</th>\n",
       "      <th>latitude</th>\n",
       "      <th>longitude</th>\n",
       "    </tr>\n",
       "  </thead>\n",
       "  <tbody>\n",
       "    <tr>\n",
       "      <th>0</th>\n",
       "      <td>2018-07-10 00:08:00 UTC</td>\n",
       "      <td>ARSON</td>\n",
       "      <td>1177246.0</td>\n",
       "      <td>1902350.0</td>\n",
       "      <td>41.887385</td>\n",
       "      <td>-87.624551</td>\n",
       "    </tr>\n",
       "  </tbody>\n",
       "</table>\n",
       "</div>"
      ],
      "text/plain": [
       "                      date primary_type  x_coordinate  y_coordinate  \\\n",
       "0  2018-07-10 00:08:00 UTC        ARSON     1177246.0     1902350.0   \n",
       "\n",
       "    latitude  longitude  \n",
       "0  41.887385 -87.624551  "
      ]
     },
     "execution_count": 192,
     "metadata": {},
     "output_type": "execute_result"
    }
   ],
   "source": [
    "# pull row from original data set where lat/lon match the lat/lon of each row of representative points\n",
    "# that way we get the full details like city, country, and date from the original dataframe\n",
    "rs = rep_points.apply(lambda row: df_18_thefts[(df_18_thefts['latitude']==row['lat']) & (df_18_thefts['longitude']==row['lon'])].iloc[0], axis=1)\n",
    "rs.to_csv('crimes-dbscan.csv', encoding='utf-8')\n",
    "rs.tail()"
   ]
  },
  {
   "cell_type": "code",
   "execution_count": 193,
   "metadata": {},
   "outputs": [
    {
     "data": {
      "image/png": "[encoded data removed]",
      "text/plain": [
       "<Figure size 720x432 with 1 Axes>"
      ]
     },
     "metadata": {},
     "output_type": "display_data"
    }
   ],
   "source": [
    "# plot the final reduced set of coordinate points vs the original full set\n",
    "fig, ax = plt.subplots(figsize=[10, 6])\n",
    "rs_scatter = ax.scatter(rs['longitude'], rs['latitude'], c='#99cc99', edgecolor='None', alpha=0.7, s=120)\n",
    "df_scatter = ax.scatter(df_18_thefts['longitude'], df_18_thefts['latitude'], c='k', alpha=0.9, s=3)\n",
    "ax.set_title('Full data set vs DBSCAN reduced set')\n",
    "ax.set_xlabel('Longitude')\n",
    "ax.set_ylabel('Latitude')\n",
    "ax.legend([df_scatter, rs_scatter], ['Full set', 'Reduced set'], loc='upper right')\n",
    "plt.show()"
   ]
  },
  {
   "cell_type": "markdown",
   "metadata": {
    "collapsed": true
   },
   "source": [
    "## Folium Visualization"
   ]
  },
  {
   "cell_type": "code",
   "execution_count": 194,
   "metadata": {
    "collapsed": true
   },
   "outputs": [],
   "source": [
    "import folium\n",
    "from folium import plugins\n",
    "import seaborn as sns\n",
    "\n",
    "m = folium.Map(location=[41.879194,-87.6564163], tiles='Stamen Toner', zoom_start=13)"
   ]
  },
  {
   "cell_type": "code",
   "execution_count": 195,
   "metadata": {
    "collapsed": true
   },
   "outputs": [],
   "source": [
    "# # mark each theft as a point\n",
    "# for index, row in rep_points.iterrows():\n",
    "#     folium.CircleMarker([row['lat'], row['lon']],\n",
    "#                         radius=5,\n",
    "#                         fill_color=\"#3db7e4\", # divvy color\n",
    "#                        ).add_to(m)"
   ]
  },
  {
   "cell_type": "code",
   "execution_count": 196,
   "metadata": {},
   "outputs": [
    {
     "data": {
      "text/html": [
       "<div style=\"width:100%;\"><div style=\"position:relative;width:100%;height:0;padding-bottom:60%;\"><iframe src=\"data:text/html;charset=utf-8;base64,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\" style=\"position:absolute;width:100%;height:100%;left:0;top:0;border:none !important;\" allowfullscreen webkitallowfullscreen mozallowfullscreen></iframe></div></div>"
      ],
      "text/plain": [
       "<folium.folium.Map at 0x25654d4bac8>"
      ]
     },
     "execution_count": 196,
     "metadata": {},
     "output_type": "execute_result"
    }
   ],
   "source": [
    "# convert to (n, 2) nd-array format for heatmap\n",
    "rep_pointsArr = rep_points[['lat', 'lon']].as_matrix()\n",
    "\n",
    "# plot heatmap\n",
    "m.add_child(plugins.HeatMap(rep_pointsArr.tolist(), radius=20))\n",
    "m"
   ]
  },
  {
   "cell_type": "code",
   "execution_count": null,
   "metadata": {
    "collapsed": true
   },
   "outputs": [],
   "source": []
  },
  {
   "cell_type": "code",
   "execution_count": null,
   "metadata": {
    "collapsed": true
   },
   "outputs": [],
   "source": []
  },
  {
   "cell_type": "code",
   "execution_count": null,
   "metadata": {
    "collapsed": true
   },
   "outputs": [],
   "source": []
  }
 ],
 "metadata": {
  "kernelspec": {
   "display_name": "Python 3",
   "language": "python",
   "name": "python3"
  },
  "language_info": {
   "codemirror_mode": {
    "name": "ipython",
    "version": 3
   },
   "file_extension": ".py",
   "mimetype": "text/x-python",
   "name": "python",
   "nbconvert_exporter": "python",
   "pygments_lexer": "ipython3",
   "version": "3.6.3"
  }
 },
 "nbformat": 4,
 "nbformat_minor": 2
}
